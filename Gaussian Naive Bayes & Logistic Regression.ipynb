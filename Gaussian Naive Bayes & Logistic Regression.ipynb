{
 "metadata": {
  "name": ""
 },
 "nbformat": 3,
 "nbformat_minor": 0,
 "worksheets": [
  {
   "cells": [
    {
     "cell_type": "markdown",
     "metadata": {},
     "source": [
      "GNB vs LR\n",
      "----------\n",
      "\n",
      "- The decision boundary for GNB with shared variances is the same as the decision boundary for LR\n",
      "    - often different classes have different variances: if the variances are different, then LR may not work so well\n",
      "- Does this mean that GNB w/ shared variances and LR will find the same decision boundary on a given problem?\n",
      "    - it gives the same _equational form_ but perhaps not the same numbers in the equation\n",
      "    - they therefore give different answers (in general)\n",
      "    - when would they be the same?\n",
      "        - when you have infinite data and your gaussian model is correct\n",
      "- Sometimes your features are really highly correlated with another\n",
      "- If I have the same feature twice, how is NB different from LR?\n",
      "    * $\\log\\frac{P=1|X}{P=0|X} = C_1X_1 + C_2X_1$\n",
      "    * What do we set for $C_1, C_2$?\n",
      "        - -99, 100? No, this solution is unstable\n",
      "        - 1, 0? Better, but still not as stable as...\n",
      "        - 1/2, 1/2\n",
      "    * What norm do I use in the LR to get 1/2, 1/2?\n",
      "        - L2 norm would yield the lowest ...\n",
      "    * In NB, the weights do not have to add to 0\n",
      "        - NB will yield 1 for both weights\n",
      "        - accuracy will be terrible\n",
      "        - with perfectly colinear estimates, NB creates an estimate twice what it should be\n",
      "            - this doesn't matter, because you only care about the _side of the probability surface_ that you wind up on\n",
      "\n",
      "No matter what the magnitude of the $\\vec{w}$, the hyperplane will always be the same"
     ]
    },
    {
     "cell_type": "code",
     "collapsed": false,
     "input": [],
     "language": "python",
     "metadata": {},
     "outputs": []
    }
   ],
   "metadata": {}
  }
 ]
}